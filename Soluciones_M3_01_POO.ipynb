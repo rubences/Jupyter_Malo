{
  "cells": [
    {
      "cell_type": "markdown",
      "metadata": {
        "id": "cbIdKvE5siYY"
      },
      "source": [
        "# Ejercicios Modulo 3. Clases y objetos (Soluciones)\n",
        "\n",
        "Consideraciones a tener en cuenta: \n",
        "\n",
        "* Guardar este documento con el siguiente formato para su entrega: __M3_01_nombre_apellido1_apellido2__\n",
        "* Realizar los ejercicios con las herramientas vistas en las sesiones. \n",
        "* Comentar el código\n",
        "* Utilizar nombres de variables apropiados, si vais a guardar una nota, llamar a esa variable nota, no n o x"
      ]
    },
    {
      "cell_type": "markdown",
      "metadata": {
        "id": "ypcO1tdjsiYc"
      },
      "source": [
        "# Ejercicio 1"
      ]
    },
    {
      "cell_type": "markdown",
      "metadata": {
        "id": "_uQ5Nt2vsiYd"
      },
      "source": [
        "#### Creación\n",
        "\n",
        "* Crea una clase llamada __Alumno__ que tenga los atributos nombre y nota\n",
        "* Crea el __constructor__ de la clase. Añadir en el constructor un print para informar de que el alumno se ha creado con éxito\n",
        "* Crear un método llamado __calificacion__ que imprima por pantalla si el alumno ha aprobado o suspendido en base a su nota\n",
        "\n",
        "#### Experimentación\n",
        "\n",
        "* Crea algunos alumnos\n",
        "* Prueba a ejecutar el método calificacion de cada objeto que has creado"
      ]
    },
    {
      "cell_type": "code",
      "execution_count": 1,
      "metadata": {
        "colab": {
          "base_uri": "https://localhost:8080/"
        },
        "id": "y_M6vB2dsiYe",
        "outputId": "7d3abe54-ba52-4aee-8c59-724d42717678"
      },
      "outputs": [
        {
          "name": "stdout",
          "output_type": "stream",
          "text": [
            "Alumno creado con exito\n",
            "Alumno creado con exito\n",
            "El alumno Juan ha aprobado\n",
            "El alumno Alfredo ha suspendido\n"
          ]
        }
      ],
      "source": [
        "class Alumno:\n",
        "    \n",
        "    def __init__(self,nombre,nota):\n",
        "        self.nombre = nombre\n",
        "        self.nota = nota\n",
        "        print(\"Alumno creado con exito\")\n",
        " \n",
        "    def calificacion(self):\n",
        "        if self.nota < 5:\n",
        "            print(\"El alumno {} ha suspendido\".format(self.nombre))\n",
        "        else:\n",
        "            print(\"El alumno {} ha aprobado\".format(self.nombre))\n",
        " \n",
        " # Creacion de alumnos\n",
        "alumno1 = Alumno(\"Juan\", 7)\n",
        "alumno2 = Alumno(\"Alfredo\", 3)\n",
        " \n",
        "# Comprobamos\n",
        "alumno1.calificacion()\n",
        "alumno2.calificacion()"
      ]
    },
    {
      "cell_type": "markdown",
      "metadata": {
        "id": "Yp0fjiKfsiYg"
      },
      "source": [
        "# Ejercicio 2"
      ]
    },
    {
      "cell_type": "markdown",
      "metadata": {
        "id": "jhpUscr6siYg"
      },
      "source": [
        "#### Creación\n",
        "\n",
        "Copia el ejercicio anterior y realicemos una modificación:\n",
        "\n",
        "Junto al método __init y calificacion__, vamos a crear otro método especial de Python, el método __str__. Al igual que init, debe ir encerrado entre dobles guiones bajos, y debe tener el siguiente formato:\n",
        "\n",
        "<strong><code>def `__str__(self):`\n",
        "    return \"Lo que quiero mostrar\"</code></strong>\n",
        "    \n",
        "Este método nos sirve para imprimir por pantalla la información de un objeto, si tenemos un objeto alumno1 creado y realizamos print(alumno1), Python ejecutará el contenido del método str (el método str lo que tiene que hacer es maquetar la información que desea en un string).\n",
        "\n",
        "#### Experimentación\n",
        "\n",
        "* Implementa el método str y haz que muestre el nombre y la nota del alumno\n",
        "* Crea algun objeto de la clase Alumno\n",
        "* Realiza print de esos objetos para visualizar por pantalla la información del str"
      ]
    },
    {
      "cell_type": "code",
      "execution_count": 2,
      "metadata": {
        "id": "KQIByzz2siYh",
        "outputId": "d302af8d-09a5-4af1-f394-e8920bb15b92"
      },
      "outputs": [
        {
          "name": "stdout",
          "output_type": "stream",
          "text": [
            "Alumno creado con exito\n",
            "Alumno creado con exito\n",
            "Nombre: Juan\n",
            "\tNota: 7\n",
            "Nombre: Alfredo\n",
            "\tNota: 3\n"
          ]
        }
      ],
      "source": [
        "class Alumno:\n",
        "    \n",
        "    def __init__(self,nombre,nota):\n",
        "        self.nombre = nombre\n",
        "        self.nota = nota\n",
        "        print(\"Alumno creado con exito\")\n",
        " \n",
        "    def __str__(self):\n",
        "        return \"Nombre: {}\\n\\tNota: {}\".format(self.nombre, self.nota)\n",
        " \n",
        "    def calificacion(self):\n",
        "        if self.nota < 5:\n",
        "            print(\"El alumno {} ha suspendido\".format(self.nombre))\n",
        "        else:\n",
        "            print(\"El alumno {} ha aprobado\".format(self.nombre))\n",
        " \n",
        " # Creacion de alumnos\n",
        "alumno1 = Alumno(\"Juan\", 7)\n",
        "alumno2 = Alumno(\"Alfredo\", 3)\n",
        " \n",
        "# Comprobamos\n",
        "print(alumno1)\n",
        "print(alumno2)"
      ]
    },
    {
      "cell_type": "markdown",
      "metadata": {
        "id": "ySzuXWpksiYi"
      },
      "source": [
        "# Ejercicio 3"
      ]
    },
    {
      "cell_type": "markdown",
      "metadata": {
        "id": "wNT435CasiYj"
      },
      "source": [
        "#### Creación\n",
        "\n",
        "* Crea una clase llamada __Producto__ que tenga los atributos codigo, nombre, precio y tipo.\n",
        "* Crea el __constructor__ de la clase. Añadir en el constructor un print para informar de que el producto se ha creado con éxito\n",
        "* Crea el método **``__str__``** para visualizar por pantalla la información de los productos\n",
        "\n",
        "#### Experimentación\n",
        "\n",
        "* Crea algunos productos\n",
        "* Prueba a mostrar los datos de algun producto y a modificar algun valor, por ejemplo, prueba a modificar el precio de un producto"
      ]
    },
    {
      "cell_type": "code",
      "execution_count": 3,
      "metadata": {
        "id": "4VanibtzsiYj",
        "outputId": "c267045a-c5ff-40c7-f410-bc77c4bab029"
      },
      "outputs": [
        {
          "name": "stdout",
          "output_type": "stream",
          "text": [
            "Producto 1 creado\n",
            "Producto 2 creado\n",
            "Producto 3 creado\n",
            "\n",
            "Mostrando información:\n",
            "1\n",
            "Macbook Pro\n",
            "1000\n",
            "Informatica\n",
            "\n",
            "Modificando información:\n",
            "Cambiando precio al producto 3\n",
            "Antes: 800\n",
            "Despues: 899\n"
          ]
        }
      ],
      "source": [
        "class Producto:\n",
        "    '''Clase Producto'''\n",
        "    \n",
        "    def __init__(self, codigo, nombre, precio, tipo):\n",
        "        self.codigo = codigo\n",
        "        self.nombre = nombre\n",
        "        self.precio = precio\n",
        "        self.tipo = tipo\n",
        "        print(\"Producto {} creado\".format( self.codigo))\n",
        "                \n",
        "# Experimentacion\n",
        "p1 = Producto(1, \"Macbook Pro\", 1000, \"Informatica\")\n",
        "p2 = Producto(2, \"Disco duro\", 100, \"Informatica\")\n",
        "p3 = Producto(3, \"Iphone 37\", 800, \"Telefonia\")\n",
        "\n",
        "print(\"\\nMostrando información:\")\n",
        "print(p1.codigo)\n",
        "print(p1.nombre)\n",
        "print(p1.precio)\n",
        "print(p1.tipo)\n",
        "\n",
        "print(\"\\nModificando información:\")\n",
        "print(\"Cambiando precio al producto 3\")\n",
        "print(\"Antes:\", p3.precio)\n",
        "p3.precio = 899\n",
        "print(\"Despues:\", p3.precio)"
      ]
    }
  ],
  "metadata": {
    "anaconda-cloud": {},
    "colab": {
      "provenance": []
    },
    "kernelspec": {
      "display_name": "Python 3.10.4 64-bit",
      "language": "python",
      "name": "python3"
    },
    "language_info": {
      "codemirror_mode": {
        "name": "ipython",
        "version": 3
      },
      "file_extension": ".py",
      "mimetype": "text/x-python",
      "name": "python",
      "nbconvert_exporter": "python",
      "pygments_lexer": "ipython3",
      "version": "3.10.4"
    },
    "vscode": {
      "interpreter": {
        "hash": "3ad933181bd8a04b432d3370b9dc3b0662ad032c4dfaa4e4f1596c548f763858"
      }
    }
  },
  "nbformat": 4,
  "nbformat_minor": 0
}
